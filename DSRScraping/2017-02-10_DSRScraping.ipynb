{
 "cells": [
  {
   "cell_type": "code",
   "execution_count": 1,
   "metadata": {
    "collapsed": false
   },
   "outputs": [],
   "source": [
    "import numpy as np\n",
    "import pandas as pd\n",
    "import matplotlib.pyplot as plt\n",
    "import spermBank as sbnk\n",
    "import seaborn as sns\n",
    "import datetime as dt\n",
    "# from bs4 import BeautifulSoup as bs\n",
    "\n",
    "%load_ext autoreload\n",
    "%autoreload 2\n",
    "%matplotlib inline"
   ]
  },
  {
   "cell_type": "markdown",
   "metadata": {},
   "source": [
    "# Load search categories from search page for looping"
   ]
  },
  {
   "cell_type": "code",
   "execution_count": 2,
   "metadata": {
    "collapsed": true
   },
   "outputs": [],
   "source": [
    "url_ = 'https://www.donorsiblingregistry.com/members/search'"
   ]
  },
  {
   "cell_type": "code",
   "execution_count": 3,
   "metadata": {
    "collapsed": false,
    "scrolled": true
   },
   "outputs": [],
   "source": [
    "idDict = sbnk.find_form_ids_facil(sbnk.html_to_soup(sbnk.open_url(url_)))"
   ]
  },
  {
   "cell_type": "code",
   "execution_count": 4,
   "metadata": {
    "collapsed": false
   },
   "outputs": [],
   "source": [
    "# for k in idDict.keys(): print(k)\n",
    "\n",
    "# for z in zip(idDict['search_donortype']['id'], idDict['search_donortype']['names']): \n",
    "#     print(z)\n",
    "\n",
    "# for z in zip(idDict['search_facilityid']['id'], idDict['search_facilityid']['names']): \n",
    "#     if 'Ann Arbor' in z[1]:\n",
    "#         print(z)"
   ]
  },
  {
   "cell_type": "markdown",
   "metadata": {},
   "source": [
    "# Scrape original sperm banks"
   ]
  },
  {
   "cell_type": "code",
   "execution_count": 5,
   "metadata": {
    "collapsed": true
   },
   "outputs": [],
   "source": [
    "# banks included in the original analysis\n",
    "bankids=['39','38','6','11','907','13','65','15','3','28','40','45','41','36',\n",
    "         '120','123','18','37','81','12','533','48','31','5','94','922','110',\n",
    "         '588','65045','192','355','85','42']\n",
    "\n",
    "bankabbrev=['ReproRes','Reprolab','Biogenetics','Cryobio','BosIVF','Cryogen','Xytex','Fairfax',\n",
    "            'CCB','NECC','Repromed','TSBC','RochReg','ProTech','Valley','CryosNY','Follas',\n",
    "            'RepGerm','IntCryo','CryogamCO','FertFirst','Tyler','NWCryo','AnnArbor','Midwest',\n",
    "            'ESB','HC','AndroNW','GG','GeorgiaRS','FINO','EBMC','RMC']"
   ]
  },
  {
   "cell_type": "code",
   "execution_count": 6,
   "metadata": {
    "collapsed": false,
    "scrolled": true
   },
   "outputs": [
    {
     "name": "stdout",
     "output_type": "stream",
     "text": [
      "https://donorsiblingregistry.com/members/ListRegistry?keyword=&dtDonorYear=&dtDonorMonth=&dtDonorDay=&dpTypeID=1&dpIdentityNumber=&faID=39&usUserName_startswith=&usTypeID=&faCity_contains=&faStateID=&faCountryID=&dpDateCreated_isgreaterthan=&doSearch=Search+Registry&userBrowse=1&userSearch=1&\n",
      "Reproductive Resources , id:  39\n",
      "49\n",
      "https://donorsiblingregistry.com/members/ListRegistry?keyword=&dtDonorYear=&dtDonorMonth=&dtDonorDay=&dpTypeID=1&dpIdentityNumber=&faID=38&usUserName_startswith=&usTypeID=&faCity_contains=&faStateID=&faCountryID=&dpDateCreated_isgreaterthan=&doSearch=Search+Registry&userBrowse=1&userSearch=1&\n",
      "Repro Lab, Inc. , id:  38\n",
      "90\n",
      "https://donorsiblingregistry.com/members/ListRegistry?keyword=&dtDonorYear=&dtDonorMonth=&dtDonorDay=&dpTypeID=1&dpIdentityNumber=&faID=6&usUserName_startswith=&usTypeID=&faCity_contains=&faStateID=&faCountryID=&dpDateCreated_isgreaterthan=&doSearch=Search+Registry&userBrowse=1&userSearch=1&\n",
      "Biogenetics , id:  6\n",
      "90\n",
      "https://donorsiblingregistry.com/members/ListRegistry?keyword=&dtDonorYear=&dtDonorMonth=&dtDonorDay=&dpTypeID=1&dpIdentityNumber=&faID=11&usUserName_startswith=&usTypeID=&faCity_contains=&faStateID=&faCountryID=&dpDateCreated_isgreaterthan=&doSearch=Search+Registry&userBrowse=1&userSearch=1&\n",
      "Cryobiology, Inc. , id:  11\n",
      "207\n",
      "https://donorsiblingregistry.com/members/ListRegistry?keyword=&dtDonorYear=&dtDonorMonth=&dtDonorDay=&dpTypeID=1&dpIdentityNumber=&faID=907&usUserName_startswith=&usTypeID=&faCity_contains=&faStateID=&faCountryID=&dpDateCreated_isgreaterthan=&doSearch=Search+Registry&userBrowse=1&userSearch=1&\n",
      "Boston IVF/Boston Fertility Lab , id:  907\n",
      "25\n",
      "https://donorsiblingregistry.com/members/ListRegistry?keyword=&dtDonorYear=&dtDonorMonth=&dtDonorDay=&dpTypeID=1&dpIdentityNumber=&faID=13&usUserName_startswith=&usTypeID=&faCity_contains=&faStateID=&faCountryID=&dpDateCreated_isgreaterthan=&doSearch=Search+Registry&userBrowse=1&userSearch=1&\n",
      "Cryogenic Laboratories, Inc. (CLI) , id:  13\n",
      "543\n",
      "https://donorsiblingregistry.com/members/ListRegistry?keyword=&dtDonorYear=&dtDonorMonth=&dtDonorDay=&dpTypeID=1&dpIdentityNumber=&faID=65&usUserName_startswith=&usTypeID=&faCity_contains=&faStateID=&faCountryID=&dpDateCreated_isgreaterthan=&doSearch=Search+Registry&userBrowse=1&userSearch=1&\n",
      "Xytex Corporation , id:  65\n",
      "1308\n",
      "https://donorsiblingregistry.com/members/ListRegistry?keyword=&dtDonorYear=&dtDonorMonth=&dtDonorDay=&dpTypeID=1&dpIdentityNumber=&faID=15&usUserName_startswith=&usTypeID=&faCity_contains=&faStateID=&faCountryID=&dpDateCreated_isgreaterthan=&doSearch=Search+Registry&userBrowse=1&userSearch=1&\n",
      "Fairfax Cryobank , id:  15\n",
      "2274\n",
      "https://donorsiblingregistry.com/members/ListRegistry?keyword=&dtDonorYear=&dtDonorMonth=&dtDonorDay=&dpTypeID=1&dpIdentityNumber=&faID=3&usUserName_startswith=&usTypeID=&faCity_contains=&faStateID=&faCountryID=&dpDateCreated_isgreaterthan=&doSearch=Search+Registry&userBrowse=1&userSearch=1&\n",
      "California Cryobank (CCB) , id:  3\n",
      "2960\n",
      "https://donorsiblingregistry.com/members/ListRegistry?keyword=&dtDonorYear=&dtDonorMonth=&dtDonorDay=&dpTypeID=1&dpIdentityNumber=&faID=28&usUserName_startswith=&usTypeID=&faCity_contains=&faStateID=&faCountryID=&dpDateCreated_isgreaterthan=&doSearch=Search+Registry&userBrowse=1&userSearch=1&\n",
      "New England Cryogenic Center (NECC) , id:  28\n",
      "370\n",
      "https://donorsiblingregistry.com/members/ListRegistry?keyword=&dtDonorYear=&dtDonorMonth=&dtDonorDay=&dpTypeID=1&dpIdentityNumber=&faID=40&usUserName_startswith=&usTypeID=&faCity_contains=&faStateID=&faCountryID=&dpDateCreated_isgreaterthan=&doSearch=Search+Registry&userBrowse=1&userSearch=1&\n",
      "Repromed, Ltd. (Canada) , id:  40\n",
      "97\n",
      "https://donorsiblingregistry.com/members/ListRegistry?keyword=&dtDonorYear=&dtDonorMonth=&dtDonorDay=&dpTypeID=1&dpIdentityNumber=&faID=45&usUserName_startswith=&usTypeID=&faCity_contains=&faStateID=&faCountryID=&dpDateCreated_isgreaterthan=&doSearch=Search+Registry&userBrowse=1&userSearch=1&\n",
      "The Sperm Bank of California (TSBC) , id:  45\n",
      "229\n",
      "https://donorsiblingregistry.com/members/ListRegistry?keyword=&dtDonorYear=&dtDonorMonth=&dtDonorDay=&dpTypeID=1&dpIdentityNumber=&faID=41&usUserName_startswith=&usTypeID=&faCity_contains=&faStateID=&faCountryID=&dpDateCreated_isgreaterthan=&doSearch=Search+Registry&userBrowse=1&userSearch=1&\n",
      "Rochester Regional Cryobank , id:  41\n",
      "45\n",
      "https://donorsiblingregistry.com/members/ListRegistry?keyword=&dtDonorYear=&dtDonorMonth=&dtDonorDay=&dpTypeID=1&dpIdentityNumber=&faID=36&usUserName_startswith=&usTypeID=&faCity_contains=&faStateID=&faCountryID=&dpDateCreated_isgreaterthan=&doSearch=Search+Registry&userBrowse=1&userSearch=1&\n",
      "Procreative Technologies LA/Santa Monica , id:  36\n",
      "50\n",
      "https://donorsiblingregistry.com/members/ListRegistry?keyword=&dtDonorYear=&dtDonorMonth=&dtDonorDay=&dpTypeID=1&dpIdentityNumber=&faID=120&usUserName_startswith=&usTypeID=&faCity_contains=&faStateID=&faCountryID=&dpDateCreated_isgreaterthan=&doSearch=Search+Registry&userBrowse=1&userSearch=1&\n",
      "Valley Cryobank , id:  120\n",
      "9\n",
      "https://donorsiblingregistry.com/members/ListRegistry?keyword=&dtDonorYear=&dtDonorMonth=&dtDonorDay=&dpTypeID=1&dpIdentityNumber=&faID=123&usUserName_startswith=&usTypeID=&faCity_contains=&faStateID=&faCountryID=&dpDateCreated_isgreaterthan=&doSearch=Search+Registry&userBrowse=1&userSearch=1&\n",
      "Cryos NY (Scandinavian Cryobank) , id:  123\n",
      "80\n",
      "https://donorsiblingregistry.com/members/ListRegistry?keyword=&dtDonorYear=&dtDonorMonth=&dtDonorDay=&dpTypeID=1&dpIdentityNumber=&faID=18&usUserName_startswith=&usTypeID=&faCity_contains=&faStateID=&faCountryID=&dpDateCreated_isgreaterthan=&doSearch=Search+Registry&userBrowse=1&userSearch=1&\n",
      "Follas Laboratories, Inc./Genome Resources , id:  18\n",
      "85\n",
      "https://donorsiblingregistry.com/members/ListRegistry?keyword=&dtDonorYear=&dtDonorMonth=&dtDonorDay=&dpTypeID=1&dpIdentityNumber=&faID=37&usUserName_startswith=&usTypeID=&faCity_contains=&faStateID=&faCountryID=&dpDateCreated_isgreaterthan=&doSearch=Search+Registry&userBrowse=1&userSearch=1&\n",
      "Repository for Germinal Choice , id:  37\n",
      "22\n",
      "https://donorsiblingregistry.com/members/ListRegistry?keyword=&dtDonorYear=&dtDonorMonth=&dtDonorDay=&dpTypeID=1&dpIdentityNumber=&faID=81&usUserName_startswith=&usTypeID=&faCity_contains=&faStateID=&faCountryID=&dpDateCreated_isgreaterthan=&doSearch=Search+Registry&userBrowse=1&userSearch=1&\n",
      "International Cryogenics, Inc. , id:  81\n",
      "113\n",
      "https://donorsiblingregistry.com/members/ListRegistry?keyword=&dtDonorYear=&dtDonorMonth=&dtDonorDay=&dpTypeID=1&dpIdentityNumber=&faID=12&usUserName_startswith=&usTypeID=&faCity_contains=&faStateID=&faCountryID=&dpDateCreated_isgreaterthan=&doSearch=Search+Registry&userBrowse=1&userSearch=1&\n",
      "Cryogam Colorado, Inc. , id:  12\n",
      "60\n",
      "https://donorsiblingregistry.com/members/ListRegistry?keyword=&dtDonorYear=&dtDonorMonth=&dtDonorDay=&dpTypeID=1&dpIdentityNumber=&faID=533&usUserName_startswith=&usTypeID=&faCity_contains=&faStateID=&faCountryID=&dpDateCreated_isgreaterthan=&doSearch=Search+Registry&userBrowse=1&userSearch=1&\n",
      "Fertility First , id:  533\n",
      "47\n",
      "https://donorsiblingregistry.com/members/ListRegistry?keyword=&dtDonorYear=&dtDonorMonth=&dtDonorDay=&dpTypeID=1&dpIdentityNumber=&faID=48&usUserName_startswith=&usTypeID=&faCity_contains=&faStateID=&faCountryID=&dpDateCreated_isgreaterthan=&doSearch=Search+Registry&userBrowse=1&userSearch=1&\n",
      "Tyler Medical Clinic , id:  48\n",
      "54\n",
      "https://donorsiblingregistry.com/members/ListRegistry?keyword=&dtDonorYear=&dtDonorMonth=&dtDonorDay=&dpTypeID=1&dpIdentityNumber=&faID=31&usUserName_startswith=&usTypeID=&faCity_contains=&faStateID=&faCountryID=&dpDateCreated_isgreaterthan=&doSearch=Search+Registry&userBrowse=1&userSearch=1&\n",
      "Northwest Cryobank , id:  31\n",
      "132\n",
      "https://donorsiblingregistry.com/members/ListRegistry?keyword=&dtDonorYear=&dtDonorMonth=&dtDonorDay=&dpTypeID=1&dpIdentityNumber=&faID=5&usUserName_startswith=&usTypeID=&faCity_contains=&faStateID=&faCountryID=&dpDateCreated_isgreaterthan=&doSearch=Search+Registry&userBrowse=1&userSearch=1&\n",
      "Ann Arbor Reproductive Assoc., P.C./IVF Michigan , id:  5\n",
      "34\n",
      "https://donorsiblingregistry.com/members/ListRegistry?keyword=&dtDonorYear=&dtDonorMonth=&dtDonorDay=&dpTypeID=1&dpIdentityNumber=&faID=94&usUserName_startswith=&usTypeID=&faCity_contains=&faStateID=&faCountryID=&dpDateCreated_isgreaterthan=&doSearch=Search+Registry&userBrowse=1&userSearch=1&\n",
      "Midwest Sperm Bank , id:  94\n",
      "64\n",
      "https://donorsiblingregistry.com/members/ListRegistry?keyword=&dtDonorYear=&dtDonorMonth=&dtDonorDay=&dpTypeID=1&dpIdentityNumber=&faID=922&usUserName_startswith=&usTypeID=&faCity_contains=&faStateID=&faCountryID=&dpDateCreated_isgreaterthan=&doSearch=Search+Registry&userBrowse=1&userSearch=1&\n",
      "European Sperm Bank USA (Seattle Sperm Bank) , id:  922\n",
      "195\n",
      "https://donorsiblingregistry.com/members/ListRegistry?keyword=&dtDonorYear=&dtDonorMonth=&dtDonorDay=&dpTypeID=1&dpIdentityNumber=&faID=110&usUserName_startswith=&usTypeID=&faCity_contains=&faStateID=&faCountryID=&dpDateCreated_isgreaterthan=&doSearch=Search+Registry&userBrowse=1&userSearch=1&\n",
      "Heredity Choice , id:  110\n",
      "20\n",
      "https://donorsiblingregistry.com/members/ListRegistry?keyword=&dtDonorYear=&dtDonorMonth=&dtDonorDay=&dpTypeID=1&dpIdentityNumber=&faID=588&usUserName_startswith=&usTypeID=&faCity_contains=&faStateID=&faCountryID=&dpDateCreated_isgreaterthan=&doSearch=Search+Registry&userBrowse=1&userSearch=1&\n",
      "Andrology Northwest Laboratory (OR) , id:  588\n",
      "9\n",
      "https://donorsiblingregistry.com/members/ListRegistry?keyword=&dtDonorYear=&dtDonorMonth=&dtDonorDay=&dpTypeID=1&dpIdentityNumber=&faID=65045&usUserName_startswith=&usTypeID=&faCity_contains=&faStateID=&faCountryID=&dpDateCreated_isgreaterthan=&doSearch=Search+Registry&userBrowse=1&userSearch=1&\n",
      "Growing Generations (Fertility Future) , id:  65045\n",
      "12\n",
      "https://donorsiblingregistry.com/members/ListRegistry?keyword=&dtDonorYear=&dtDonorMonth=&dtDonorDay=&dpTypeID=1&dpIdentityNumber=&faID=192&usUserName_startswith=&usTypeID=&faCity_contains=&faStateID=&faCountryID=&dpDateCreated_isgreaterthan=&doSearch=Search+Registry&userBrowse=1&userSearch=1&\n",
      "Georgia Reproductive Specialists , id:  192\n",
      "4\n",
      "https://donorsiblingregistry.com/members/ListRegistry?keyword=&dtDonorYear=&dtDonorMonth=&dtDonorDay=&dpTypeID=1&dpIdentityNumber=&faID=355&usUserName_startswith=&usTypeID=&faCity_contains=&faStateID=&faCountryID=&dpDateCreated_isgreaterthan=&doSearch=Search+Registry&userBrowse=1&userSearch=1&\n",
      "Fertility Institute of New Orleans , id:  355\n",
      "20\n",
      "https://donorsiblingregistry.com/members/ListRegistry?keyword=&dtDonorYear=&dtDonorMonth=&dtDonorDay=&dpTypeID=1&dpIdentityNumber=&faID=85&usUserName_startswith=&usTypeID=&faCity_contains=&faStateID=&faCountryID=&dpDateCreated_isgreaterthan=&doSearch=Search+Registry&userBrowse=1&userSearch=1&\n",
      "East Bay Fertility Medical Group , id:  85\n",
      "32\n",
      "https://donorsiblingregistry.com/members/ListRegistry?keyword=&dtDonorYear=&dtDonorMonth=&dtDonorDay=&dpTypeID=1&dpIdentityNumber=&faID=42&usUserName_startswith=&usTypeID=&faCity_contains=&faStateID=&faCountryID=&dpDateCreated_isgreaterthan=&doSearch=Search+Registry&userBrowse=1&userSearch=1&\n",
      "Rocky Mountain Cryobank (Closed) , id:  42\n",
      "32\n"
     ]
    }
   ],
   "source": [
    "# load bank ids for sperm donors\n",
    "orig_meta_df, orig_df = sbnk.load_multi_bank(bankids, '1')"
   ]
  },
  {
   "cell_type": "code",
   "execution_count": 7,
   "metadata": {
    "collapsed": false
   },
   "outputs": [],
   "source": [
    "indiv_df = sbnk.make_indiv_df(orig_df)"
   ]
  },
  {
   "cell_type": "code",
   "execution_count": 8,
   "metadata": {
    "collapsed": false
   },
   "outputs": [],
   "source": [
    "don_df = sbnk.make_don_df(orig_df, indiv_df)"
   ]
  },
  {
   "cell_type": "code",
   "execution_count": 14,
   "metadata": {
    "collapsed": true
   },
   "outputs": [],
   "source": [
    "datadir = '/Users/nathanvc/Documents/CrunchBucket/ScrapedDonorData/'"
   ]
  },
  {
   "cell_type": "code",
   "execution_count": 15,
   "metadata": {
    "collapsed": false
   },
   "outputs": [],
   "source": [
    "orig_meta_df.to_csv(datadir + '2017_04_30_bankinfo_spermdonors_orig.csv', sep='|', header=True)\n",
    "orig_df.to_csv(datadir + '2017_04_30_spermdonors_orig.csv', sep='|', header=True)\n",
    "indiv_df.to_csv(datadir + '2017_04_30_spermdonors_indiv_orig.csv', sep='|', header=True)\n",
    "don_df.to_csv(datadir + '2017_04_30_spermdonors_dondf_orig.csv', sep='|', header=True)"
   ]
  },
  {
   "cell_type": "code",
   "execution_count": 19,
   "metadata": {
    "collapsed": false,
    "scrolled": true
   },
   "outputs": [
    {
     "data": {
      "text/plain": [
       "['Started donating 1993',\n",
       " 'English, Welsh',\n",
       " 'Weight: 180',\n",
       " 'Height: 6\\'0\"',\n",
       " 'Student',\n",
       " 'Methodist',\n",
       " 'Born Jan 1973',\n",
       " 'Brown  Wavy hair',\n",
       " 'Military Pilot',\n",
       " 'Medium complexion',\n",
       " 'Pre-med student',\n",
       " 'Pre-med',\n",
       " 'Blue eyes',\n",
       " 'Blood type AB-']"
      ]
     },
     "execution_count": 19,
     "metadata": {},
     "output_type": "execute_result"
    }
   ],
   "source": [
    "don_df['don_text_set'][20]"
   ]
  },
  {
   "cell_type": "code",
   "execution_count": null,
   "metadata": {
    "collapsed": false
   },
   "outputs": [],
   "source": [
    "cnts = don_df[['bankdonorid','num_kids']].groupby('num_kids').count().reset_index().rename(columns={'bankdonorid': 'groupcounts'})"
   ]
  },
  {
   "cell_type": "code",
   "execution_count": null,
   "metadata": {
    "collapsed": false
   },
   "outputs": [],
   "source": [
    "cnts['kidcnt']=cnts['num_kids'].multiply(cnts['groupcounts'])"
   ]
  },
  {
   "cell_type": "code",
   "execution_count": null,
   "metadata": {
    "collapsed": false
   },
   "outputs": [],
   "source": [
    "plt.plot(cnts['num_kids'],np.cumsum(cnts['groupcounts'])/sum(cnts['groupcounts']), marker = '.', markersize=10)\n",
    "plt.plot(cnts['num_kids'], np.cumsum(cnts['kidcnt'])/sum(cnts['kidcnt']), color='green', marker = '.', markersize=10)\n",
    "plt.legend(['propgroups','propkids'], fontsize=18, loc = 'center right')\n",
    "plt.ylim([0,1.1])\n",
    "plt.show()"
   ]
  },
  {
   "cell_type": "code",
   "execution_count": null,
   "metadata": {
    "collapsed": false
   },
   "outputs": [],
   "source": [
    "cnts_rev=cnts.sort_values(by='num_kids', ascending=False).reset_index(drop=True)\n",
    "plt.plot(cnts_rev['num_kids'], np.cumsum(cnts_rev['groupcounts'])/sum(cnts_rev['groupcounts']), marker = '.', markersize=10)\n",
    "plt.plot(cnts_rev['num_kids'],np.cumsum(cnts_rev['kidcnt'])/sum(cnts_rev['kidcnt']), color='green', marker = '.', markersize=10)\n",
    "plt.legend(['propgroups','propkids'], fontsize=18, loc = 'center right')\n",
    "plt.ylim([0,1.1])\n",
    "plt.show()"
   ]
  },
  {
   "cell_type": "code",
   "execution_count": null,
   "metadata": {
    "collapsed": false
   },
   "outputs": [],
   "source": [
    "plt.scatter(don_df['birthyeardiff'], don_df['msg_avgyr'])\n",
    "don_df[['birthyeardiff','msg_avgyr']].groupby('msg_avgyr').mean().plot()\n",
    "plt.show()"
   ]
  },
  {
   "cell_type": "code",
   "execution_count": null,
   "metadata": {
    "collapsed": false
   },
   "outputs": [],
   "source": [
    "don_df[don_df['bankdonorid'].str.contains('28_D-5670')]"
   ]
  },
  {
   "cell_type": "markdown",
   "metadata": {},
   "source": [
    "# Scrape multiple sperm banks"
   ]
  },
  {
   "cell_type": "code",
   "execution_count": null,
   "metadata": {
    "collapsed": false
   },
   "outputs": [],
   "source": [
    "# load bank ids for sperm donors\n",
    "bank_meta_df, bank_df = sbnk.load_multi_bank(idDict['search_facilityid']['id'][1:], '1')"
   ]
  },
  {
   "cell_type": "code",
   "execution_count": null,
   "metadata": {
    "collapsed": true
   },
   "outputs": [],
   "source": [
    "indiv_df = sbnk.make_indiv_df(bank_df)"
   ]
  },
  {
   "cell_type": "code",
   "execution_count": null,
   "metadata": {
    "collapsed": false
   },
   "outputs": [],
   "source": [
    "bank_meta_df.to_csv('ScrapedDSRdata/2017_02_17_bankinfo_spermdonors.csv', sep='|', header=True)\n",
    "bank_df.to_csv('ScrapedDSRdata/2017_02_17_spermdonors.csv', sep='|', header=True)\n",
    "indiv_df.to_csv('ScrapedDSRdata/2017_02_17_spermdonors_indiv.csv', sep='|', header=True)"
   ]
  },
  {
   "cell_type": "markdown",
   "metadata": {},
   "source": [
    "# Scrape egg donations"
   ]
  },
  {
   "cell_type": "code",
   "execution_count": null,
   "metadata": {
    "collapsed": false
   },
   "outputs": [],
   "source": [
    "# load bank ids for sperm donors\n",
    "bank_meta_df, bank_df = sbnk.load_multi_bank(idDict['search_facilityid']['id'][1:], '2')"
   ]
  },
  {
   "cell_type": "code",
   "execution_count": null,
   "metadata": {
    "collapsed": true
   },
   "outputs": [],
   "source": [
    "indiv_df = sbnk.make_indiv_df(bank_df)"
   ]
  },
  {
   "cell_type": "code",
   "execution_count": null,
   "metadata": {
    "collapsed": true
   },
   "outputs": [],
   "source": [
    "bank_meta_df.to_csv('ScrapedDSRdata/2017_02_17_bankinfo_eggdonors.csv', sep='|', header=True)\n",
    "bank_df.to_csv('ScrapedDSRdata/2017_02_17_eggdonors.csv', sep='|', header=True)\n",
    "indiv_df.to_csv('ScrapedDSRdata/2017_02_17_eggdonors_indiv.csv', sep='|', header=True)"
   ]
  },
  {
   "cell_type": "markdown",
   "metadata": {},
   "source": [
    "# Scrape embryo donations"
   ]
  },
  {
   "cell_type": "code",
   "execution_count": null,
   "metadata": {
    "collapsed": false
   },
   "outputs": [],
   "source": [
    "# load bank ids for sperm donors\n",
    "# bank_meta_df, bank_df = load_multi_bank(idDict['search_facilityid']['id'][1:], '3')\n",
    "bank_meta_df = sbnk.load_multi_bank(idDict['search_facilityid']['id'][1:], '3')"
   ]
  },
  {
   "cell_type": "code",
   "execution_count": null,
   "metadata": {
    "collapsed": true
   },
   "outputs": [],
   "source": [
    "indiv_df = sbnk.make_indiv_df(bank_df)"
   ]
  },
  {
   "cell_type": "code",
   "execution_count": null,
   "metadata": {
    "collapsed": true
   },
   "outputs": [],
   "source": [
    "bank_meta_df.to_csv('DSRdata/2017_02_17_bankinfo_embryodonors.csv', sep='|', header=True)\n",
    "bank_df.to_csv('DSRdata/2017_02_17_embryodonors.csv', sep='|', header=True)\n",
    "indiv_df.to_csv('DSRdata/2017_02_17_embryodonors_indiv.csv', sep='|', header=True)"
   ]
  }
 ],
 "metadata": {
  "kernelspec": {
   "display_name": "Python 3",
   "language": "python",
   "name": "python3"
  },
  "language_info": {
   "codemirror_mode": {
    "name": "ipython",
    "version": 3
   },
   "file_extension": ".py",
   "mimetype": "text/x-python",
   "name": "python",
   "nbconvert_exporter": "python",
   "pygments_lexer": "ipython3",
   "version": "3.5.1"
  }
 },
 "nbformat": 4,
 "nbformat_minor": 0
}
