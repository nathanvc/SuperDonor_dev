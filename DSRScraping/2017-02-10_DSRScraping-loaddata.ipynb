{
 "cells": [
  {
   "cell_type": "code",
   "execution_count": 2,
   "metadata": {
    "collapsed": false
   },
   "outputs": [],
   "source": [
    "import numpy as np\n",
    "import pandas as pd\n",
    "import matplotlib.pyplot as plt\n",
    "import spermBank as sb\n",
    "from bs4 import BeautifulSoup as bs\n",
    "\n",
    "%matplotlib inline\n",
    "%load_ext autoreload\n",
    "%autoreload 2"
   ]
  },
  {
   "cell_type": "markdown",
   "metadata": {},
   "source": [
    "# Load previously scraped data from DSR"
   ]
  },
  {
   "cell_type": "code",
   "execution_count": 3,
   "metadata": {
    "collapsed": false
   },
   "outputs": [],
   "source": [
    "bank_info_sperm = pd.read_csv('ScrapedDSRdata/2017_02_17_bankinfo_spermdonors.csv', sep='|')\n",
    "bank_info_egg = pd.read_csv('ScrapedDSRdata/2017_02_17_bankinfo_eggdonors.csv', sep='|')\n",
    "bank_onfo_embryo = pd.read_csv('ScrapedDSRdata/2017_02_17_bankinfo_embryodonors.csv', sep='|')"
   ]
  },
  {
   "cell_type": "code",
   "execution_count": 4,
   "metadata": {
    "collapsed": true
   },
   "outputs": [],
   "source": [
    "all_listings_sperm = pd.read_csv('ScrapedDSRdata/2017_02_17_spermdonors.csv', sep='|')\n",
    "all_listings_egg = pd.read_csv('ScrapedDSRdata/2017_02_17_eggdonors.csv', sep='|')\n",
    "all_listings_embryo = pd.read_csv('ScrapedDSRdata/2017_02_17_embryodonors.csv', sep='|')"
   ]
  },
  {
   "cell_type": "code",
   "execution_count": 5,
   "metadata": {
    "collapsed": true
   },
   "outputs": [],
   "source": [
    "indiv_listings_sperm = pd.read_csv('ScrapedDSRdata/2017_02_17_spermdonors_indiv.csv', sep='|')\n",
    "indiv_listings_egg = pd.read_csv('ScrapedDSRdata/2017_02_17_eggdonors_indiv.csv', sep='|')\n",
    "indiv_listings_embryo = pd.read_csv('ScrapedDSRdata/2017_02_17_embryodonors_indiv.csv', sep='|')"
   ]
  }
 ],
 "metadata": {
  "kernelspec": {
   "display_name": "Python 3",
   "language": "python",
   "name": "python3"
  },
  "language_info": {
   "codemirror_mode": {
    "name": "ipython",
    "version": 3
   },
   "file_extension": ".py",
   "mimetype": "text/x-python",
   "name": "python",
   "nbconvert_exporter": "python",
   "pygments_lexer": "ipython3",
   "version": "3.5.1"
  }
 },
 "nbformat": 4,
 "nbformat_minor": 0
}
